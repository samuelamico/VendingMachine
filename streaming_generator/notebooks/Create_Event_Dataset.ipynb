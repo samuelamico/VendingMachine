{
 "cells": [
  {
   "cell_type": "code",
   "execution_count": 1,
   "id": "sapphire-reconstruction",
   "metadata": {},
   "outputs": [],
   "source": [
    "from app.sensor_streaming import SensorStreaming\n",
    "from app.products import Drinks\n",
    "from app.vending_machine import Machine\n",
    "import json\n",
    "import pandas as pd"
   ]
  },
  {
   "cell_type": "code",
   "execution_count": 2,
   "id": "consecutive-ukraine",
   "metadata": {},
   "outputs": [],
   "source": [
    "vm_drink_one = Machine(Drinks)\n",
    "vm_drink_two = Machine(Drinks)"
   ]
  },
  {
   "cell_type": "code",
   "execution_count": 4,
   "id": "norman-essence",
   "metadata": {},
   "outputs": [
    {
     "data": {
      "text/plain": [
       "<Drinks.COKE: 33>"
      ]
     },
     "execution_count": 4,
     "metadata": {},
     "output_type": "execute_result"
    }
   ],
   "source": [
    "Drinks.COKE"
   ]
  },
  {
   "cell_type": "code",
   "execution_count": 3,
   "id": "prompt-roman",
   "metadata": {},
   "outputs": [
    {
     "name": "stdout",
     "output_type": "stream",
     "text": [
      "Machines Have the products with probability\n",
      " 'Product = COKE -> P(0.297)', 'Product = COKE_ZERO -> P(0.135)', 'Product = SPRIT -> P(0.09)', 'Product = FANTA_UVA -> P(0.108)', 'Product = FANTA_LARANJA -> P(0.126)', 'Product = FANTA_GUARANA -> P(0.198)', 'Product = GRAPETE -> P(0.009)', 'Product = MINEIRINHO -> P(0.036)' \n"
     ]
    }
   ],
   "source": [
    "print(vm_drink_one)"
   ]
  },
  {
   "cell_type": "code",
   "execution_count": 30,
   "id": "broke-denial",
   "metadata": {},
   "outputs": [
    {
     "name": "stdout",
     "output_type": "stream",
     "text": [
      "Machines Have the products with probability\n",
      " 'Product = COKE -> P(0.264)', 'Product = COKE_ZERO -> P(0.096)', 'Product = SPRIT -> P(0.072)', 'Product = FANTA_UVA -> P(0.064)', 'Product = FANTA_LARANJA -> P(0.056)', 'Product = FANTA_GUARANA -> P(0.2)', 'Product = PUREZA -> P(0.12)', 'Product = MINEIRINHO -> P(0.04)', 'Product = CAJUINA -> P(0.088)' \n"
     ]
    }
   ],
   "source": [
    "print(vm_drink_two)"
   ]
  },
  {
   "cell_type": "code",
   "execution_count": 17,
   "id": "prerequisite-process",
   "metadata": {},
   "outputs": [],
   "source": [
    "sensor_one = SensorStreaming(vm_drink_one)\n",
    "sensor_two = SensorStreaming(vm_drink_two)"
   ]
  },
  {
   "cell_type": "code",
   "execution_count": 18,
   "id": "first-attribute",
   "metadata": {},
   "outputs": [
    {
     "data": {
      "text/plain": [
       "'{\"type\": \"Feature\", \"geometry\": {\"type\": \"Point\", \"coordinates\": [-48.51628814686965, -27.59323699689512]}, \"properties\": {\"timestamp\": \"2021-05-17 17:21:17.603667\", \"machine_id\": 2667, \"city\": \"Florianopolis\", \"state\": \"Santa Catarina\", \"country\": \"Brasil\", \"capacity\": 100, \"COKE\": 100, \"COKE_ZERO\": 100, \"SPRIT\": 100, \"FANTA_UVA\": 100, \"FANTA_LARANJA\": 100, \"FANTA_GUARANA\": 100, \"PUREZA\": 100, \"MINEIRINHO\": 100, \"CAJUINA\": 100}}'"
      ]
     },
     "execution_count": 18,
     "metadata": {},
     "output_type": "execute_result"
    }
   ],
   "source": [
    "sensor_one.sensor_event()"
   ]
  },
  {
   "cell_type": "code",
   "execution_count": 19,
   "id": "competent-hierarchy",
   "metadata": {},
   "outputs": [
    {
     "data": {
      "text/plain": [
       "'{\"type\": \"Feature\", \"geometry\": {\"type\": \"Point\", \"coordinates\": [-48.51601641054605, -27.593070698961277]}, \"properties\": {\"timestamp\": \"2021-05-17 17:21:17.608342\", \"machine_id\": 3216, \"city\": \"Florianopolis\", \"state\": \"Santa Catarina\", \"country\": \"Brasil\", \"capacity\": 100, \"COKE\": 100, \"COKE_ZERO\": 100, \"SPRIT\": 100, \"FANTA_UVA\": 100, \"FANTA_LARANJA\": 100, \"FANTA_GUARANA\": 100, \"PUREZA\": 100, \"MINEIRINHO\": 100, \"CAJUINA\": 100}}'"
      ]
     },
     "execution_count": 19,
     "metadata": {},
     "output_type": "execute_result"
    }
   ],
   "source": [
    "sensor_two.sensor_event()"
   ]
  },
  {
   "cell_type": "code",
   "execution_count": 20,
   "id": "industrial-medline",
   "metadata": {},
   "outputs": [],
   "source": [
    "json_event = json.loads(sensor_two.sensor_event())"
   ]
  },
  {
   "cell_type": "code",
   "execution_count": 21,
   "id": "referenced-cassette",
   "metadata": {},
   "outputs": [
    {
     "data": {
      "text/plain": [
       "{'type': 'Feature',\n",
       " 'geometry': {'type': 'Point',\n",
       "  'coordinates': [-48.51601641054605, -27.593070698961277]},\n",
       " 'properties': {'timestamp': '2021-05-17 17:21:17.613178',\n",
       "  'machine_id': 3216,\n",
       "  'city': 'Florianopolis',\n",
       "  'state': 'Santa Catarina',\n",
       "  'country': 'Brasil',\n",
       "  'capacity': 100,\n",
       "  'COKE': 100,\n",
       "  'COKE_ZERO': 100,\n",
       "  'SPRIT': 100,\n",
       "  'FANTA_UVA': 100,\n",
       "  'FANTA_LARANJA': 100,\n",
       "  'FANTA_GUARANA': 100,\n",
       "  'PUREZA': 100,\n",
       "  'MINEIRINHO': 100,\n",
       "  'CAJUINA': 100}}"
      ]
     },
     "execution_count": 21,
     "metadata": {},
     "output_type": "execute_result"
    }
   ],
   "source": [
    "json_event"
   ]
  },
  {
   "cell_type": "markdown",
   "id": "placed-woman",
   "metadata": {},
   "source": [
    "# Collect 100 events from each Machine"
   ]
  },
  {
   "cell_type": "code",
   "execution_count": 22,
   "id": "considered-belief",
   "metadata": {},
   "outputs": [],
   "source": [
    "list_lat = []\n",
    "list_lon = []\n",
    "list_machine_id = []\n",
    "list_event_timestamp = []\n",
    "list_COKE = []\n",
    "list_COKE_ZERO = []\n",
    "list_SPRIT = []\n",
    "list_FANTA_UVA = []\n",
    "list_FANTA_LARANJA = []\n",
    "list_FANTA_GUARANA = []\n",
    "list_PUREZA = []\n",
    "list_MINEIRINHO = []\n",
    "list_CAJUINA = []"
   ]
  },
  {
   "cell_type": "code",
   "execution_count": 23,
   "id": "sound-patch",
   "metadata": {},
   "outputs": [],
   "source": [
    "for i in range(500):\n",
    "    vm_drink_one.get_product()\n",
    "    event = json.loads(sensor_one.sensor_event())\n",
    "    \n",
    "    list_lat.append(event['geometry']['coordinates'][0])\n",
    "    list_lon.append(event['geometry']['coordinates'][1])\n",
    "    list_machine_id.append(event['properties']['machine_id'])\n",
    "    list_event_timestamp.append(event['properties']['timestamp'])\n",
    "    list_COKE.append(event['properties']['COKE'])\n",
    "    list_COKE_ZERO.append(event['properties']['COKE_ZERO'])\n",
    "    list_SPRIT.append(event['properties']['SPRIT'])\n",
    "    list_FANTA_UVA.append(event['properties']['FANTA_UVA'])\n",
    "    list_FANTA_LARANJA.append(event['properties']['FANTA_LARANJA'])\n",
    "    list_FANTA_GUARANA.append(event['properties']['FANTA_GUARANA'])\n",
    "    list_PUREZA.append(event['properties']['PUREZA'])\n",
    "    list_MINEIRINHO.append(event['properties']['MINEIRINHO'])\n",
    "    list_CAJUINA.append(event['properties']['CAJUINA'])\n",
    "    \n",
    "    vm_drink_two.get_product()\n",
    "    \n",
    "    event_2 = json.loads(sensor_two.sensor_event())\n",
    "    list_lat.append(event_2['geometry']['coordinates'][0])\n",
    "    list_lon.append(event_2['geometry']['coordinates'][1])\n",
    "    list_machine_id.append(event_2['properties']['machine_id'])\n",
    "    list_event_timestamp.append(event_2['properties']['timestamp'])\n",
    "    list_COKE.append(event_2['properties']['COKE'])\n",
    "    list_COKE_ZERO.append(event_2['properties']['COKE_ZERO'])\n",
    "    list_SPRIT.append(event_2['properties']['SPRIT'])\n",
    "    list_FANTA_UVA.append(event_2['properties']['FANTA_UVA'])\n",
    "    list_FANTA_LARANJA.append(event_2['properties']['FANTA_LARANJA'])\n",
    "    list_FANTA_GUARANA.append(event_2['properties']['FANTA_GUARANA'])\n",
    "    list_PUREZA.append(event_2['properties']['PUREZA'])\n",
    "    list_MINEIRINHO.append(event_2['properties']['MINEIRINHO'])\n",
    "    list_CAJUINA.append(event_2['properties']['CAJUINA']) "
   ]
  },
  {
   "cell_type": "code",
   "execution_count": 24,
   "id": "rubber-automation",
   "metadata": {},
   "outputs": [],
   "source": [
    "dataset_events_vm = pd.DataFrame({\n",
    "    'lat': list_lat,\n",
    "    'lon': list_lon,\n",
    "    'machine_id': list_machine_id,\n",
    "    'event_timestamp': list_event_timestamp,\n",
    "    'COKE': list_COKE,\n",
    "    'COKE_ZERO': list_COKE_ZERO,\n",
    "    'SPRIT': list_SPRIT,\n",
    "    'FANTA_UVA': list_FANTA_UVA,\n",
    "    'FANTA_LARANJA': list_FANTA_LARANJA,\n",
    "    'FANTA_GUARANA': list_FANTA_GUARANA,\n",
    "    'PUREZA': list_PUREZA,\n",
    "    'MINEIRINHO': list_MINEIRINHO,\n",
    "    'CAJUINA': list_CAJUINA\n",
    "})"
   ]
  },
  {
   "cell_type": "code",
   "execution_count": 25,
   "id": "pleased-support",
   "metadata": {},
   "outputs": [
    {
     "data": {
      "text/html": [
       "<div>\n",
       "<style scoped>\n",
       "    .dataframe tbody tr th:only-of-type {\n",
       "        vertical-align: middle;\n",
       "    }\n",
       "\n",
       "    .dataframe tbody tr th {\n",
       "        vertical-align: top;\n",
       "    }\n",
       "\n",
       "    .dataframe thead th {\n",
       "        text-align: right;\n",
       "    }\n",
       "</style>\n",
       "<table border=\"1\" class=\"dataframe\">\n",
       "  <thead>\n",
       "    <tr style=\"text-align: right;\">\n",
       "      <th></th>\n",
       "      <th>lat</th>\n",
       "      <th>lon</th>\n",
       "      <th>machine_id</th>\n",
       "      <th>event_timestamp</th>\n",
       "      <th>COKE</th>\n",
       "      <th>COKE_ZERO</th>\n",
       "      <th>SPRIT</th>\n",
       "      <th>FANTA_UVA</th>\n",
       "      <th>FANTA_LARANJA</th>\n",
       "      <th>FANTA_GUARANA</th>\n",
       "      <th>PUREZA</th>\n",
       "      <th>MINEIRINHO</th>\n",
       "      <th>CAJUINA</th>\n",
       "    </tr>\n",
       "  </thead>\n",
       "  <tbody>\n",
       "    <tr>\n",
       "      <th>995</th>\n",
       "      <td>-48.516016</td>\n",
       "      <td>-27.593071</td>\n",
       "      <td>3216</td>\n",
       "      <td>2021-05-17 17:21:17.672530</td>\n",
       "      <td>0</td>\n",
       "      <td>56</td>\n",
       "      <td>55</td>\n",
       "      <td>62</td>\n",
       "      <td>71</td>\n",
       "      <td>5</td>\n",
       "      <td>41</td>\n",
       "      <td>82</td>\n",
       "      <td>70</td>\n",
       "    </tr>\n",
       "    <tr>\n",
       "      <th>996</th>\n",
       "      <td>-48.516288</td>\n",
       "      <td>-27.593237</td>\n",
       "      <td>2667</td>\n",
       "      <td>2021-05-17 17:21:17.672560</td>\n",
       "      <td>0</td>\n",
       "      <td>51</td>\n",
       "      <td>69</td>\n",
       "      <td>60</td>\n",
       "      <td>72</td>\n",
       "      <td>0</td>\n",
       "      <td>52</td>\n",
       "      <td>81</td>\n",
       "      <td>61</td>\n",
       "    </tr>\n",
       "    <tr>\n",
       "      <th>997</th>\n",
       "      <td>-48.516016</td>\n",
       "      <td>-27.593071</td>\n",
       "      <td>3216</td>\n",
       "      <td>2021-05-17 17:21:17.672591</td>\n",
       "      <td>0</td>\n",
       "      <td>56</td>\n",
       "      <td>55</td>\n",
       "      <td>62</td>\n",
       "      <td>71</td>\n",
       "      <td>5</td>\n",
       "      <td>41</td>\n",
       "      <td>82</td>\n",
       "      <td>70</td>\n",
       "    </tr>\n",
       "    <tr>\n",
       "      <th>998</th>\n",
       "      <td>-48.516288</td>\n",
       "      <td>-27.593237</td>\n",
       "      <td>2667</td>\n",
       "      <td>2021-05-17 17:21:17.672621</td>\n",
       "      <td>0</td>\n",
       "      <td>50</td>\n",
       "      <td>69</td>\n",
       "      <td>60</td>\n",
       "      <td>72</td>\n",
       "      <td>0</td>\n",
       "      <td>52</td>\n",
       "      <td>81</td>\n",
       "      <td>61</td>\n",
       "    </tr>\n",
       "    <tr>\n",
       "      <th>999</th>\n",
       "      <td>-48.516016</td>\n",
       "      <td>-27.593071</td>\n",
       "      <td>3216</td>\n",
       "      <td>2021-05-17 17:21:17.672652</td>\n",
       "      <td>0</td>\n",
       "      <td>56</td>\n",
       "      <td>55</td>\n",
       "      <td>62</td>\n",
       "      <td>70</td>\n",
       "      <td>5</td>\n",
       "      <td>41</td>\n",
       "      <td>82</td>\n",
       "      <td>70</td>\n",
       "    </tr>\n",
       "  </tbody>\n",
       "</table>\n",
       "</div>"
      ],
      "text/plain": [
       "           lat        lon  machine_id             event_timestamp  COKE  \\\n",
       "995 -48.516016 -27.593071        3216  2021-05-17 17:21:17.672530     0   \n",
       "996 -48.516288 -27.593237        2667  2021-05-17 17:21:17.672560     0   \n",
       "997 -48.516016 -27.593071        3216  2021-05-17 17:21:17.672591     0   \n",
       "998 -48.516288 -27.593237        2667  2021-05-17 17:21:17.672621     0   \n",
       "999 -48.516016 -27.593071        3216  2021-05-17 17:21:17.672652     0   \n",
       "\n",
       "     COKE_ZERO  SPRIT  FANTA_UVA  FANTA_LARANJA  FANTA_GUARANA  PUREZA  \\\n",
       "995         56     55         62             71              5      41   \n",
       "996         51     69         60             72              0      52   \n",
       "997         56     55         62             71              5      41   \n",
       "998         50     69         60             72              0      52   \n",
       "999         56     55         62             70              5      41   \n",
       "\n",
       "     MINEIRINHO  CAJUINA  \n",
       "995          82       70  \n",
       "996          81       61  \n",
       "997          82       70  \n",
       "998          81       61  \n",
       "999          82       70  "
      ]
     },
     "execution_count": 25,
     "metadata": {},
     "output_type": "execute_result"
    }
   ],
   "source": [
    "dataset_events_vm.tail(5)"
   ]
  },
  {
   "cell_type": "code",
   "execution_count": 26,
   "id": "dressed-strength",
   "metadata": {},
   "outputs": [],
   "source": [
    "dataset_events_vm['event_timestamp'] = pd.to_datetime(dataset_events_vm['event_timestamp'])"
   ]
  },
  {
   "cell_type": "code",
   "execution_count": 27,
   "id": "short-psychiatry",
   "metadata": {},
   "outputs": [
    {
     "data": {
      "text/html": [
       "<div>\n",
       "<style scoped>\n",
       "    .dataframe tbody tr th:only-of-type {\n",
       "        vertical-align: middle;\n",
       "    }\n",
       "\n",
       "    .dataframe tbody tr th {\n",
       "        vertical-align: top;\n",
       "    }\n",
       "\n",
       "    .dataframe thead th {\n",
       "        text-align: right;\n",
       "    }\n",
       "</style>\n",
       "<table border=\"1\" class=\"dataframe\">\n",
       "  <thead>\n",
       "    <tr style=\"text-align: right;\">\n",
       "      <th></th>\n",
       "      <th>lat</th>\n",
       "      <th>lon</th>\n",
       "      <th>machine_id</th>\n",
       "      <th>event_timestamp</th>\n",
       "      <th>COKE</th>\n",
       "      <th>COKE_ZERO</th>\n",
       "      <th>SPRIT</th>\n",
       "      <th>FANTA_UVA</th>\n",
       "      <th>FANTA_LARANJA</th>\n",
       "      <th>FANTA_GUARANA</th>\n",
       "      <th>PUREZA</th>\n",
       "      <th>MINEIRINHO</th>\n",
       "      <th>CAJUINA</th>\n",
       "    </tr>\n",
       "  </thead>\n",
       "  <tbody>\n",
       "    <tr>\n",
       "      <th>995</th>\n",
       "      <td>-48.516016</td>\n",
       "      <td>-27.593071</td>\n",
       "      <td>3216</td>\n",
       "      <td>2021-05-17 17:21:17.672530</td>\n",
       "      <td>0</td>\n",
       "      <td>56</td>\n",
       "      <td>55</td>\n",
       "      <td>62</td>\n",
       "      <td>71</td>\n",
       "      <td>5</td>\n",
       "      <td>41</td>\n",
       "      <td>82</td>\n",
       "      <td>70</td>\n",
       "    </tr>\n",
       "    <tr>\n",
       "      <th>996</th>\n",
       "      <td>-48.516288</td>\n",
       "      <td>-27.593237</td>\n",
       "      <td>2667</td>\n",
       "      <td>2021-05-17 17:21:17.672560</td>\n",
       "      <td>0</td>\n",
       "      <td>51</td>\n",
       "      <td>69</td>\n",
       "      <td>60</td>\n",
       "      <td>72</td>\n",
       "      <td>0</td>\n",
       "      <td>52</td>\n",
       "      <td>81</td>\n",
       "      <td>61</td>\n",
       "    </tr>\n",
       "    <tr>\n",
       "      <th>997</th>\n",
       "      <td>-48.516016</td>\n",
       "      <td>-27.593071</td>\n",
       "      <td>3216</td>\n",
       "      <td>2021-05-17 17:21:17.672591</td>\n",
       "      <td>0</td>\n",
       "      <td>56</td>\n",
       "      <td>55</td>\n",
       "      <td>62</td>\n",
       "      <td>71</td>\n",
       "      <td>5</td>\n",
       "      <td>41</td>\n",
       "      <td>82</td>\n",
       "      <td>70</td>\n",
       "    </tr>\n",
       "    <tr>\n",
       "      <th>998</th>\n",
       "      <td>-48.516288</td>\n",
       "      <td>-27.593237</td>\n",
       "      <td>2667</td>\n",
       "      <td>2021-05-17 17:21:17.672621</td>\n",
       "      <td>0</td>\n",
       "      <td>50</td>\n",
       "      <td>69</td>\n",
       "      <td>60</td>\n",
       "      <td>72</td>\n",
       "      <td>0</td>\n",
       "      <td>52</td>\n",
       "      <td>81</td>\n",
       "      <td>61</td>\n",
       "    </tr>\n",
       "    <tr>\n",
       "      <th>999</th>\n",
       "      <td>-48.516016</td>\n",
       "      <td>-27.593071</td>\n",
       "      <td>3216</td>\n",
       "      <td>2021-05-17 17:21:17.672652</td>\n",
       "      <td>0</td>\n",
       "      <td>56</td>\n",
       "      <td>55</td>\n",
       "      <td>62</td>\n",
       "      <td>70</td>\n",
       "      <td>5</td>\n",
       "      <td>41</td>\n",
       "      <td>82</td>\n",
       "      <td>70</td>\n",
       "    </tr>\n",
       "  </tbody>\n",
       "</table>\n",
       "</div>"
      ],
      "text/plain": [
       "           lat        lon  machine_id            event_timestamp  COKE  \\\n",
       "995 -48.516016 -27.593071        3216 2021-05-17 17:21:17.672530     0   \n",
       "996 -48.516288 -27.593237        2667 2021-05-17 17:21:17.672560     0   \n",
       "997 -48.516016 -27.593071        3216 2021-05-17 17:21:17.672591     0   \n",
       "998 -48.516288 -27.593237        2667 2021-05-17 17:21:17.672621     0   \n",
       "999 -48.516016 -27.593071        3216 2021-05-17 17:21:17.672652     0   \n",
       "\n",
       "     COKE_ZERO  SPRIT  FANTA_UVA  FANTA_LARANJA  FANTA_GUARANA  PUREZA  \\\n",
       "995         56     55         62             71              5      41   \n",
       "996         51     69         60             72              0      52   \n",
       "997         56     55         62             71              5      41   \n",
       "998         50     69         60             72              0      52   \n",
       "999         56     55         62             70              5      41   \n",
       "\n",
       "     MINEIRINHO  CAJUINA  \n",
       "995          82       70  \n",
       "996          81       61  \n",
       "997          82       70  \n",
       "998          81       61  \n",
       "999          82       70  "
      ]
     },
     "execution_count": 27,
     "metadata": {},
     "output_type": "execute_result"
    }
   ],
   "source": [
    "dataset_events_vm.tail(5)"
   ]
  },
  {
   "cell_type": "code",
   "execution_count": null,
   "id": "capital-validation",
   "metadata": {},
   "outputs": [],
   "source": []
  }
 ],
 "metadata": {
  "kernelspec": {
   "display_name": "Python 3",
   "language": "python",
   "name": "python3"
  },
  "language_info": {
   "codemirror_mode": {
    "name": "ipython",
    "version": 3
   },
   "file_extension": ".py",
   "mimetype": "text/x-python",
   "name": "python",
   "nbconvert_exporter": "python",
   "pygments_lexer": "ipython3",
   "version": "3.9.2"
  }
 },
 "nbformat": 4,
 "nbformat_minor": 5
}
